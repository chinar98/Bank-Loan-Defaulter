{
 "cells": [
  {
   "cell_type": "code",
   "execution_count": null,
   "metadata": {},
   "outputs": [],
   "source": [
    "import pandas as pd\n",
    "import numpy as np\n",
    "df = pd.read_csv('train_indessa.csv')"
   ]
  },
  {
   "cell_type": "code",
   "execution_count": null,
   "metadata": {},
   "outputs": [],
   "source": [
    "df.head()"
   ]
  },
  {
   "cell_type": "code",
   "execution_count": null,
   "metadata": {},
   "outputs": [],
   "source": [
    "df.info()"
   ]
  },
  {
   "cell_type": "code",
   "execution_count": null,
   "metadata": {},
   "outputs": [],
   "source": [
    "pip install sweetviz"
   ]
  },
  {
   "cell_type": "code",
   "execution_count": null,
   "metadata": {},
   "outputs": [],
   "source": [
    "df_test = pd.read_csv('test_indessa.csv')"
   ]
  },
  {
   "cell_type": "code",
   "execution_count": null,
   "metadata": {},
   "outputs": [],
   "source": [
    "df_test.head()"
   ]
  },
  {
   "cell_type": "code",
   "execution_count": null,
   "metadata": {},
   "outputs": [],
   "source": [
    "df_test.info()"
   ]
  },
  {
   "cell_type": "code",
   "execution_count": null,
   "metadata": {},
   "outputs": [],
   "source": [
    "#importing sweetviz\n",
    "#import sweetviz as sv\n",
    "#analyzing the dataset\n",
    "#report = sv.analyze(df)\n",
    "#display the report\n",
    "#report.show_html('train-bank.html')\n"
   ]
  },
  {
   "cell_type": "code",
   "execution_count": null,
   "metadata": {},
   "outputs": [],
   "source": [
    "#from pandas_profiling import ProfileReport\n",
    "#design_report = ProfileReport(df)\n",
    "#design_report.to_file(output_file='report.html')"
   ]
  },
  {
   "cell_type": "code",
   "execution_count": null,
   "metadata": {},
   "outputs": [],
   "source": [
    "#pip install pandas-profiling"
   ]
  },
  {
   "cell_type": "code",
   "execution_count": null,
   "metadata": {},
   "outputs": [],
   "source": [
    "df['loan_status'].value_counts()"
   ]
  },
  {
   "cell_type": "code",
   "execution_count": null,
   "metadata": {},
   "outputs": [],
   "source": [
    "df.columns"
   ]
  },
  {
   "cell_type": "code",
   "execution_count": null,
   "metadata": {},
   "outputs": [],
   "source": [
    "\n",
    "# Replaces months string with '' \n",
    "df['term'].replace(to_replace=' months', value='', regex=True, inplace=True) \n",
    "\n",
    "# Convert it to numeric\n",
    "df['term'] = pd.to_numeric(df['term'], errors='coerce')"
   ]
  },
  {
   "cell_type": "markdown",
   "metadata": {},
   "source": [
    "errors='coerce'\n",
    "It will ignore all non-numeric values. Output: Code #3: Using errors='coerce'. It will replace all non-numeric values with NaN"
   ]
  },
  {
   "cell_type": "code",
   "execution_count": null,
   "metadata": {},
   "outputs": [],
   "source": [
    "df['term'].value_counts()"
   ]
  },
  {
   "cell_type": "code",
   "execution_count": null,
   "metadata": {},
   "outputs": [],
   "source": [
    "df['emp_length'].replace('n/a', '0', inplace=True)\n",
    "df['emp_length'].replace(to_replace='\\+ years', value='', regex=True, inplace=True)\n",
    "df['emp_length'].replace(to_replace=' years', value='', regex=True, inplace=True)\n",
    "df['emp_length'].replace(to_replace='< 1 year', value='0', regex=True, inplace=True)\n",
    "df['emp_length'].replace(to_replace=' year', value='', regex=True, inplace=True)\n",
    "\n",
    "# Convert it to numeric\n",
    "df['emp_length'] = pd.to_numeric(df['emp_length'], errors='coerce')"
   ]
  },
  {
   "cell_type": "code",
   "execution_count": null,
   "metadata": {},
   "outputs": [],
   "source": [
    "df['sub_grade'].replace(to_replace='A', value='0', regex=True, inplace=True)\n",
    "df['sub_grade'].replace(to_replace='B', value='1', regex=True, inplace=True)\n",
    "df['sub_grade'].replace(to_replace='C', value='2', regex=True, inplace=True)\n",
    "df['sub_grade'].replace(to_replace='D', value='3', regex=True, inplace=True)\n",
    "df['sub_grade'].replace(to_replace='E', value='4', regex=True, inplace=True)\n",
    "df['sub_grade'].replace(to_replace='F', value='5', regex=True, inplace=True)\n",
    "df['sub_grade'].replace(to_replace='G', value='6', regex=True, inplace=True) \n",
    "\n",
    "# Convert it to numeric\n",
    "df['sub_grade'] = pd.to_numeric(df['sub_grade'], errors='coerce')"
   ]
  },
  {
   "cell_type": "code",
   "execution_count": null,
   "metadata": {},
   "outputs": [],
   "source": [
    "df['last_week_pay'].replace(to_replace='th week', value='', regex=True, inplace=True)\n",
    "\n",
    "df['last_week_pay'].replace(to_replace='NA', value='', regex=True, inplace=True)\n",
    "\n",
    "# Convert it to numeric\n",
    "df['last_week_pay'] = pd.to_numeric(df['last_week_pay'], errors='coerce')"
   ]
  },
  {
   "cell_type": "markdown",
   "metadata": {},
   "source": [
    "### Handling Missing Values"
   ]
  },
  {
   "cell_type": "code",
   "execution_count": null,
   "metadata": {},
   "outputs": [],
   "source": [
    "df.isnull().sum()"
   ]
  },
  {
   "cell_type": "code",
   "execution_count": null,
   "metadata": {},
   "outputs": [],
   "source": [
    "\n",
    "columns = ['term', 'loan_amnt', 'funded_amnt', 'last_week_pay', 'int_rate', 'sub_grade',\n",
    "           'annual_inc', 'dti', 'mths_since_last_delinq', 'mths_since_last_record', 'open_acc',\n",
    "           'revol_bal', 'revol_util', 'total_acc', 'total_rec_int', 'mths_since_last_major_derog', \n",
    "           'tot_coll_amt', 'tot_cur_bal', 'total_rev_hi_lim', 'emp_length']\n",
    "for col in columns:\n",
    "    df[col].fillna(df[col].median(), inplace=True)  # Filling NaN values with median of each column present in columns.\n",
    "\n",
    "  \n",
    "num_cols = ['acc_now_delinq', 'total_rec_late_fee', 'recoveries', 'collection_recovery_fee', 'collections_12_mths_ex_med']\n",
    "for col in num_cols:\n",
    "    df[col].fillna(0, inplace=True)        ## Filling NaN values with 0 for each column present in columns."
   ]
  },
  {
   "cell_type": "code",
   "execution_count": null,
   "metadata": {},
   "outputs": [],
   "source": [
    "\n",
    "# Converts categorical variable into dummy/indicator variables.\n",
    "cate_attr = ['home_ownership', 'purpose']\n",
    "for cat in cate_attr:\n",
    "   df_col = [cat]\n",
    "   df[cat] = df[cat].astype(\"category\")\n",
    "   df[cat] = pd.get_dummies(df, columns=df_col)"
   ]
  },
  {
   "cell_type": "code",
   "execution_count": null,
   "metadata": {},
   "outputs": [],
   "source": [
    "final_df = df.copy()\n",
    "final_df = final_df.drop(['loan_status'], axis=1)"
   ]
  },
  {
   "cell_type": "code",
   "execution_count": null,
   "metadata": {},
   "outputs": [],
   "source": [
    "final_df['income_to_loan'] = np.round_(final_df['annual_inc']/final_df['funded_amnt'], decimals = 2)\n",
    "\n",
    "# How big the loan a person has taken with respect to his earnings, annual income to fund by investors ratio\n",
    "final_df['income_to_loan_inv'] = np.round_(final_df['annual_inc']/final_df['funded_amnt_inv'], decimals = 2)\n",
    "\n",
    "\n",
    "# Interest paid so far = interest received till date + Late fee received till date\n",
    "final_df['total_int_paid'] = final_df['total_rec_int'] + final_df['total_rec_late_fee']\n",
    "\n",
    "# Calculating EMIs (monthly)\n",
    "#EMI = [P x R x (1+R)^N] / [(1+R)^N-1]\n",
    "principal = final_df['loan_amnt']\n",
    "rate = final_df['int_rate'] /(100*12)\n",
    "time = final_df['term']\n",
    "\n",
    "final_df['emi_per_month'] = np.round_((principal * rate * (1+rate)**time)/((1+rate)**(time)-1), decimals = 2)\n",
    "\n",
    "\n",
    "# Calculating EMIs paid (in terms of percent) np.round_(in_array, decimals = 2)\n",
    "final_df['emi_paid_perc'] = np.round_(((final_df['last_week_pay'])/(final_df['term']/12*52+1))*100, decimals = 2)"
   ]
  },
  {
   "cell_type": "code",
   "execution_count": null,
   "metadata": {},
   "outputs": [],
   "source": [
    "cols = ['grade', 'emp_title', 'verification_status_joint', 'verification_status',\n",
    "        'pymnt_plan', 'desc', 'purpose', 'title', 'zip_code', 'addr_state', 'initial_list_status', 'application_type']\n",
    "\n",
    "for col in cols:\n",
    "    final_df[col].fillna('missing', inplace=True)\n",
    "    \n",
    "    \n",
    "final_df.fillna(0)  \n",
    "final_df.reset_index(inplace=True)  # Resets the indices."
   ]
  },
  {
   "cell_type": "code",
   "execution_count": null,
   "metadata": {},
   "outputs": [],
   "source": [
    "final_df.drop(['desc', 'zip_code', 'emp_title', 'title', 'batch_enrolled','grade'], axis=1, inplace=True)"
   ]
  },
  {
   "cell_type": "code",
   "execution_count": null,
   "metadata": {},
   "outputs": [],
   "source": [
    "# Class Label : Binary Classification\n",
    "train_target = pd.DataFrame(df['loan_status'])"
   ]
  },
  {
   "cell_type": "code",
   "execution_count": null,
   "metadata": {},
   "outputs": [],
   "source": [
    "\n",
    "from sklearn.model_selection import train_test_split\n",
    "\n",
    "X_train, X_test, y_train, y_test = train_test_split(np.array(final_df), np.array(train_target), test_size=0.30)"
   ]
  },
  {
   "cell_type": "code",
   "execution_count": null,
   "metadata": {},
   "outputs": [],
   "source": []
  },
  {
   "cell_type": "code",
   "execution_count": null,
   "metadata": {},
   "outputs": [],
   "source": [
    "final_df.head()"
   ]
  },
  {
   "cell_type": "code",
   "execution_count": null,
   "metadata": {},
   "outputs": [],
   "source": [
    "\n",
    "import matplotlib.pyplot as plt\n",
    "import sklearn.metrics as metrics\n",
    "from sklearn.metrics import confusion_matrix, classification_report, accuracy_score\n",
    "from sklearn.metrics import roc_curve, auc \n",
    "from sklearn.metrics import roc_auc_score"
   ]
  },
  {
   "cell_type": "code",
   "execution_count": null,
   "metadata": {},
   "outputs": [],
   "source": [
    "#CATBoost\n",
    "from catboost import CatBoostClassifier\n",
    "cat_clf = CatBoostClassifier(learning_rate=0.1, n_estimators=1400, subsample=0.70, max_depth=6, scale_pos_weight=2.5, silent=True)\n",
    "cat_clf.fit(X_train, y_train)\n",
    "\n",
    "# evaluate predictions\n",
    "y_train_predict_cat = cat_clf.predict(X_train)\n",
    "print(\"==========================\")\n",
    "print('Train Accuracy: %.3f' % metrics.accuracy_score(y_train, y_train_predict_cat))\n",
    "\n",
    "# make predictions for test data\n",
    "y_pred_cat = cat_clf.predict(X_test)\n",
    "predictions = [round(value) for value in y_pred_cat]\n",
    "\n",
    "\n",
    "accuracy_per_roc_auc = roc_auc_score(y_test, predictions)\n",
    "print(\"ROC-AUC: %.10f%%\" % (accuracy_per_roc_auc * 100))\n",
    "\n",
    "print('Test Accuracy: %.3f' % metrics.accuracy_score(y_test, predictions))\n",
    "print(\"==========================\")\n",
    "print(metrics.confusion_matrix(y_test, predictions))\n",
    "print(\"==========================\")\n",
    "print(metrics.classification_report(y_test, predictions))\n",
    "print(\"==========================\")\n",
    "print('Precision Score: %.3f' % metrics.precision_score(y_test, predictions))\n",
    "print('Recall Score: %.3f' % metrics.recall_score(y_test, predictions))\n",
    "print('F1 Score: %.3f' % metrics.f1_score(y_test, predictions))"
   ]
  },
  {
   "cell_type": "code",
   "execution_count": null,
   "metadata": {},
   "outputs": [],
   "source": [
    "\n",
    "y_train_pred = cat_clf.predict(X_train)    \n",
    "y_test_pred = cat_clf.predict(X_test)\n",
    "\n",
    "\n",
    "train_fpr, train_tpr, train_thresholds = roc_curve(y_train, y_train_pred)\n",
    "test_fpr, test_tpr, test_thresholds = roc_curve(y_test, y_test_pred)\n",
    "\n",
    "plt.plot(train_fpr, train_tpr, label=\"Train AUC =\"+str(auc(train_fpr, train_tpr)))\n",
    "plt.plot(test_fpr, test_tpr, label=\"Test AUC =\"+str(auc(test_fpr, test_tpr)))\n",
    "plt.legend()\n",
    "plt.xlabel(\"True Positive Rate(TPR)\", fontweight='bold')\n",
    "plt.ylabel(\"False Positive Rate(FPR)\", fontweight='bold')\n",
    "plt.title(\"ROC-AUC\", fontweight='bold')\n",
    "plt.grid()\n",
    "plt.show()"
   ]
  },
  {
   "cell_type": "code",
   "execution_count": null,
   "metadata": {},
   "outputs": [],
   "source": [
    "#XGBOOST\n",
    "from xgboost import XGBClassifier\n",
    "\n",
    "xg = XGBClassifier(scale_pos_weight=2.5 ,silent=True)\n",
    "    \n",
    "xg.fit(X_train, y_train)\n",
    "\n",
    "\n",
    "# evaluate predictions\n",
    "y_train_predict_xg = xg.predict(X_train)\n",
    "print(\"==========================\")\n",
    "print('Train Accuracy %.3f' % metrics.accuracy_score(y_train, y_train_predict_xg))\n",
    "\n",
    "# make predictions for test data\n",
    "y_pred_xg = xg.predict(X_test)\n",
    "predictions = [round(value) for value in y_pred_xg]\n",
    "\n",
    "accuracy_per_roc_auc = roc_auc_score(y_test, predictions)\n",
    "print(\"ROC-AUC: %.10f%%\" % (accuracy_per_roc_auc * 100))\n",
    "\n",
    "\n",
    "print('Test Accuracy %.3f' % metrics.accuracy_score(y_test, predictions))\n",
    "print(\"==========================\")\n",
    "print(metrics.confusion_matrix(y_test, predictions))\n",
    "print(\"==========================\")\n",
    "print(metrics.classification_report(y_test, predictions))\n",
    "print(\"==========================\")\n",
    "print('Precision Score %.3f' % metrics.precision_score(y_test, predictions))\n",
    "print('Recall Score %.3f' % metrics.recall_score(y_test, predictions))\n",
    "print('F1 Score %.3f' % metrics.f1_score(y_test, predictions))"
   ]
  },
  {
   "cell_type": "code",
   "execution_count": null,
   "metadata": {},
   "outputs": [],
   "source": [
    "\n",
    "y_train_pred = xg.predict(X_train)    \n",
    "y_test_pred = xg.predict(X_test)\n",
    "\n",
    "\n",
    "train_fpr, train_tpr, tr_thresholds = roc_curve(y_train, y_train_pred)\n",
    "test_fpr, test_tpr, te_thresholds = roc_curve(y_test, y_test_pred)\n",
    "\n",
    "plt.plot(train_fpr, train_tpr, label=\"Train AUC =\"+str(auc(train_fpr, train_tpr)))\n",
    "plt.plot(test_fpr, test_tpr, label=\"Test AUC =\"+str(auc(test_fpr, test_tpr)))\n",
    "plt.legend()\n",
    "plt.xlabel(\"True Positive Rate(TPR)\", fontweight='bold')\n",
    "plt.ylabel(\"False Positive Rate(FPR)\", fontweight='bold')\n",
    "plt.title(\"ROC-AUC\", fontweight='bold')\n",
    "plt.grid()\n",
    "plt.show()"
   ]
  },
  {
   "cell_type": "code",
   "execution_count": null,
   "metadata": {},
   "outputs": [],
   "source": []
  }
 ],
 "metadata": {
  "kernelspec": {
   "display_name": "Python 3",
   "language": "python",
   "name": "python3"
  },
  "language_info": {
   "codemirror_mode": {
    "name": "ipython",
    "version": 3
   },
   "file_extension": ".py",
   "mimetype": "text/x-python",
   "name": "python",
   "nbconvert_exporter": "python",
   "pygments_lexer": "ipython3",
   "version": "3.8.5"
  }
 },
 "nbformat": 4,
 "nbformat_minor": 4
}
